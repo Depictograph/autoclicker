{
 "cells": [
  {
   "cell_type": "code",
   "execution_count": null,
   "metadata": {
    "collapsed": false
   },
   "outputs": [],
   "source": [
    "from pymouse import PyMouse\n",
    "from pymouse import PyMouseEvent\n",
    "import time\n",
    "import random"
   ]
  },
  {
   "cell_type": "code",
   "execution_count": null,
   "metadata": {
    "collapsed": false
   },
   "outputs": [],
   "source": [
    "class Recorder(PyMouseEvent):\n",
    "    def __init__(self):\n",
    "        self.reset()\n",
    "    def click(self, x, y, button, press):\n",
    "        if button == 3:\n",
    "            self.end()\n",
    "        if not self.stopped()\n",
    "        self.timer.start()\n",
    "        if self.timer.started():\n",
    "            waittime = self.timer.stop()\n",
    "            wait = Wait(waittime)\n",
    "            self.moves.append(wait)\n",
    "        click = Click(self.m, x, y, button, press)\n",
    "        self.moves.append(click)\n",
    "\n",
    "    def end(self):\n",
    "        print \"Stopping\"\n",
    "        self.stopped = True\n",
    "        self.stop()\n",
    "    def move(self, x, y):\n",
    "        if self.timer.started():\n",
    "            waittime = self.timer.stop()\n",
    "            wait = Wait(waittime)\n",
    "            self.moves.append(wait)\n",
    "        move = Move(self.m, x, y)\n",
    "        self.moves.append(move)\n",
    "        self.timer.start()\n",
    "    def reset(self):\n",
    "        PyMouseEvent.__init__(self, capture=False, capture_move=False)\n",
    "        self.m = PyMouse()\n",
    "        self.timer = Timer()\n",
    "        self.moves = []\n",
    "        self.stopped = False\n",
    "    def replay(self, times):\n",
    "        if not self.stopped:\n",
    "            print 'Must stop recording first'\n",
    "            return\n",
    "        print 'Replaying...'\n",
    "        while times > 0:\n",
    "            print 'Times left ' + str(times)\n",
    "            for e in self.moves:\n",
    "                e.run()\n",
    "            times -= 1\n",
    "        print \"Done\"\n",
    "\n",
    "class Timer():\n",
    "    def __init__(self):\n",
    "        self.t = -1\n",
    "    def start(self):\n",
    "        self.t = time.time()\n",
    "    def stop(self, delay=1.2):\n",
    "        st = time.time()\n",
    "        elapsed = (st - self.t) * delay\n",
    "        self.t = -1\n",
    "        return elapsed\n",
    "    def started(self):\n",
    "        return self.t != -1\n",
    "class Event():\n",
    "    def __init__(self, m, x, y, button, press):\n",
    "        self.m = m\n",
    "        self.x = x\n",
    "        self.y = y\n",
    "        self.button = button\n",
    "        self.press = press\n",
    "class Click(Event):\n",
    "    def __init__(self, m, x, y, button, press):\n",
    "        Event.__init__(self, m, x, y, button, press)\n",
    "    def run(self):\n",
    "        self.m.click(self.x, self.y, self.button)\n",
    "        \n",
    "class Move(Event):\n",
    "    def __init__(self, m, x, y):\n",
    "        Event.__init__(self, m, x, y, None, None)\n",
    "    def run(self):\n",
    "        self.m.move(self.x, self.y)\n",
    "class Wait():\n",
    "    def __init__(self, t):\n",
    "        self.time = t\n",
    "    def run(self):\n",
    "        time.sleep(self.time)\n",
    "        \n",
    "    \n",
    "        \n",
    "        \n",
    "        \n",
    "    "
   ]
  },
  {
   "cell_type": "code",
   "execution_count": null,
   "metadata": {
    "collapsed": true
   },
   "outputs": [],
   "source": [
    "r = Recorder()\n",
    "r.start()"
   ]
  }
 ],
 "metadata": {
  "kernelspec": {
   "display_name": "Python 2",
   "language": "python",
   "name": "python2"
  },
  "language_info": {
   "codemirror_mode": {
    "name": "ipython",
    "version": 2
   },
   "file_extension": ".py",
   "mimetype": "text/x-python",
   "name": "python",
   "nbconvert_exporter": "python",
   "pygments_lexer": "ipython2",
   "version": "2.7.10"
  }
 },
 "nbformat": 4,
 "nbformat_minor": 0
}
